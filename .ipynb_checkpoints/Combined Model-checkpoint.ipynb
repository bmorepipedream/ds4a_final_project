{
 "cells": [
  {
   "cell_type": "code",
   "execution_count": null,
   "id": "99072762",
   "metadata": {},
   "outputs": [
    {
     "name": "stderr",
     "output_type": "stream",
     "text": [
      "/Users/derekmcgrath/opt/anaconda3/lib/python3.9/site-packages/IPython/core/interactiveshell.py:3444: DtypeWarning: Columns (4,5) have mixed types.Specify dtype option on import or set low_memory=False.\n",
      "  exec(code_obj, self.user_global_ns, self.user_ns)\n"
     ]
    }
   ],
   "source": [
    "import pandas as pd\n",
    "import numpy as np\n",
    "import csv\n",
    "import statsmodels.api as sm\n",
    "import statsmodels.formula.api as smf\n",
    "from scipy import stats\n",
    "\n",
    "#read combined model\n",
    "dfa=pd.read_csv('combined_all_v2.csv')\n",
    "\n",
    "# Combined Model\n",
    "#Linear regression formula\n",
    "f5= 'income ~ age + education + wfh + industry + gender + state + race + hispanic'\n",
    "#fitted model\n",
    "model5 = smf.ols(formula = f5, data = dfa)\n",
    "#fit Model\n",
    "fitted5=model5.fit()\n",
    "\n",
    "#save model as pickle object\n",
    "#import pickle    \n",
    "#with open('model.pkl','wb') as f:\n",
    " # pickle.dump(fitted5,f)\n"
   ]
  },
  {
   "cell_type": "code",
   "execution_count": null,
   "id": "7a5fa76f",
   "metadata": {},
   "outputs": [],
   "source": [
    "fitted5.summary()"
   ]
  }
 ],
 "metadata": {
  "kernelspec": {
   "display_name": "Python 3 (ipykernel)",
   "language": "python",
   "name": "python3"
  },
  "language_info": {
   "codemirror_mode": {
    "name": "ipython",
    "version": 3
   },
   "file_extension": ".py",
   "mimetype": "text/x-python",
   "name": "python",
   "nbconvert_exporter": "python",
   "pygments_lexer": "ipython3",
   "version": "3.9.7"
  }
 },
 "nbformat": 4,
 "nbformat_minor": 5
}
