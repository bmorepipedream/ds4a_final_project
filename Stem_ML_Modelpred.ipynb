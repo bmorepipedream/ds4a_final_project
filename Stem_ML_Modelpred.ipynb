{
 "cells": [
  {
   "cell_type": "code",
   "execution_count": 2,
   "id": "f6349b34",
   "metadata": {},
   "outputs": [],
   "source": [
    "import pandas as pd\n",
    "import numpy as np\n",
    "import csv\n",
    "import statsmodels.api as sm\n",
    "import statsmodels.formula.api as smf\n",
    "from scipy import stats"
   ]
  },
  {
   "cell_type": "code",
   "execution_count": 7,
   "id": "fffcb49e",
   "metadata": {},
   "outputs": [],
   "source": [
    "#Import each Dataset as a DF.\n",
    "df=pd.read_csv('stem_final_2.csv')\n",
    "\n",
    "\n",
    "# Multivariate Linear Regression formula\n",
    "f= 'income ~ yearsofexperience + yearsatcompany + title + level + education +  gender + state + race + hispanic'\n",
    "#fitted model\n",
    "model = smf.ols(formula = f, data = df)\n",
    "#fit Model\n",
    "fitted = model.fit()\n",
    "\n",
    "\n"
   ]
  },
  {
   "cell_type": "code",
   "execution_count": 8,
   "id": "0e4e555f",
   "metadata": {},
   "outputs": [
    {
     "data": {
      "text/plain": [
       "0    196003.130365\n",
       "dtype: float64"
      ]
     },
     "execution_count": 8,
     "metadata": {},
     "output_type": "execute_result"
    }
   ],
   "source": [
    "#STEM Model Prediction Test prediction code\n",
    "#yearsofexperience + yearsatcompany + title + level + education +  gender + state + race + hispanic'\n",
    "demo = {'yearsofexperience':[15],'yearsatcompany':[3],'title':['Software Engineer'],'level':['intermediate'],'education':['Graduate'],'race':['White'],'hispanic':['Yes'],'gender':['Male'],'state':['CA']}\n",
    "pred=fitted.predict(demo)\n",
    "pred"
   ]
  }
 ],
 "metadata": {
  "kernelspec": {
   "display_name": "Python 3 (ipykernel)",
   "language": "python",
   "name": "python3"
  },
  "language_info": {
   "codemirror_mode": {
    "name": "ipython",
    "version": 3
   },
   "file_extension": ".py",
   "mimetype": "text/x-python",
   "name": "python",
   "nbconvert_exporter": "python",
   "pygments_lexer": "ipython3",
   "version": "3.9.7"
  }
 },
 "nbformat": 4,
 "nbformat_minor": 5
}
